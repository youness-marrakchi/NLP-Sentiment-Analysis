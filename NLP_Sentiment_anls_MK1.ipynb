{
  "nbformat": 4,
  "nbformat_minor": 0,
  "metadata": {
    "colab": {
      "provenance": [],
      "authorship_tag": "ABX9TyOQreu33MksN2J1p0oUMB60",
      "include_colab_link": true
    },
    "kernelspec": {
      "name": "python3",
      "display_name": "Python 3"
    },
    "language_info": {
      "name": "python"
    }
  },
  "cells": [
    {
      "cell_type": "markdown",
      "metadata": {
        "id": "view-in-github",
        "colab_type": "text"
      },
      "source": [
        "<a href=\"https://colab.research.google.com/github/youness-marrakchi/NLP-Sentiment-Analysis/blob/main/NLP_Sentiment_anls_MK1.ipynb\" target=\"_parent\"><img src=\"https://colab.research.google.com/assets/colab-badge.svg\" alt=\"Open In Colab\"/></a>"
      ]
    },
    {
      "cell_type": "code",
      "execution_count": 3,
      "metadata": {
        "colab": {
          "base_uri": "https://localhost:8080/"
        },
        "id": "f1j6enbyiFJv",
        "outputId": "52d71b44-1155-409f-936d-739a770d9cb6"
      },
      "outputs": [
        {
          "output_type": "stream",
          "name": "stdout",
          "text": [
            "                               review                    cleaned_review  \\\n",
            "1  The movie was okay, but not great.  the movie was okay but not great   \n",
            "\n",
            "  sentiment predicted_sentiment  \n",
            "1   neutral             neutral  \n",
            "Accuracy: 1.00\n",
            "              precision    recall  f1-score   support\n",
            "\n",
            "     neutral       1.00      1.00      1.00         1\n",
            "\n",
            "    accuracy                           1.00         1\n",
            "   macro avg       1.00      1.00      1.00         1\n",
            "weighted avg       1.00      1.00      1.00         1\n",
            "\n"
          ]
        }
      ],
      "source": [
        "import pandas as pd\n",
        "import re\n",
        "from sklearn.model_selection import train_test_split\n",
        "from sklearn.metrics import accuracy_score, classification_report\n",
        "\n",
        "# Sample data\n",
        "data = {\n",
        "    'review': [\n",
        "        \"I loved this movie, it was fantastic!\",\n",
        "        \"The movie was okay, but not great.\",\n",
        "        \"I did not like this movie at all. It was terrible.\",\n",
        "        \"What a wonderful film! A must-watch.\",\n",
        "        \"Boring and dull, wouldn't recommend.\"\n",
        "    ],\n",
        "    'sentiment': ['positive', 'neutral', 'negative', 'positive', 'negative']\n",
        "}\n",
        "\n",
        "# Create DataFrame from the data\n",
        "df = pd.DataFrame(data)\n",
        "\n",
        "# Function to preprocess the text (cleaning the review)\n",
        "def preprocess_text(text):\n",
        "    # Convert text to lowercase\n",
        "    text = text.lower()\n",
        "    # Remove punctuation using regex\n",
        "    text = re.sub(r'[^\\w\\s]', '', text)\n",
        "    return text\n",
        "\n",
        "# Apply the preprocess_text function to the 'review' column\n",
        "df['cleaned_review'] = df['review'].apply(preprocess_text)\n",
        "\n",
        "# Split the data into training and test sets\n",
        "train_df, test_df = train_test_split(df, test_size=0.2, random_state=42)\n",
        "\n",
        "# Example lexicon with words and their sentiment scores\n",
        "lexicon = {\n",
        "    'love': 1,\n",
        "    'fantastic': 1,\n",
        "    'great': 1,\n",
        "    'wonderful': 1,\n",
        "    'mustwatch': 1,\n",
        "    'okay': 0,\n",
        "    'boring': -1,\n",
        "    'dull': -1,\n",
        "    'terrible': -1,\n",
        "    'not': -1\n",
        "}\n",
        "\n",
        "# Function to analyze sentiment of a given review using the lexicon\n",
        "def analyze_sentiment(review, lexicon):\n",
        "    # Split the review into individual words\n",
        "    words = review.split()\n",
        "    # Calculate the sentiment score by summing the scores of each word found in the lexicon\n",
        "    sentiment_score = sum([lexicon.get(word, 0) for word in words])\n",
        "    # Determine sentiment based on the sentiment score\n",
        "    if sentiment_score > 0:\n",
        "        return 'positive'\n",
        "    elif sentiment_score < 0:\n",
        "        return 'negative'\n",
        "    else:\n",
        "        return 'neutral'\n",
        "\n",
        "# Apply the analyze_sentiment function to the 'cleaned_review' column of the test set\n",
        "test_df['predicted_sentiment'] = test_df['cleaned_review'].apply(analyze_sentiment, lexicon=lexicon)\n",
        "\n",
        "print(test_df[['review', 'cleaned_review', 'sentiment', 'predicted_sentiment']])\n",
        "\n",
        "# Accuracy of the sentiment predictions\n",
        "accuracy = accuracy_score(test_df['sentiment'], test_df['predicted_sentiment'])\n",
        "print(f\"Accuracy: {accuracy:.2f}\")\n",
        "\n",
        "# Classification report to show detailed evaluation metrics\n",
        "print(classification_report(test_df['sentiment'], test_df['predicted_sentiment']))\n"
      ]
    }
  ]
}